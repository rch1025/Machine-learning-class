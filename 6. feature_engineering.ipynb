{
 "cells": [
  {
   "cell_type": "markdown",
   "metadata": {},
   "source": [
    "## 날짜 데이터를 활용한 피쳐 가공"
   ]
  },
  {
   "cell_type": "code",
   "execution_count": 1,
   "metadata": {},
   "outputs": [
    {
     "data": {
      "text/html": [
       "<div>\n",
       "<style scoped>\n",
       "    .dataframe tbody tr th:only-of-type {\n",
       "        vertical-align: middle;\n",
       "    }\n",
       "\n",
       "    .dataframe tbody tr th {\n",
       "        vertical-align: top;\n",
       "    }\n",
       "\n",
       "    .dataframe thead th {\n",
       "        text-align: right;\n",
       "    }\n",
       "</style>\n",
       "<table border=\"1\" class=\"dataframe\">\n",
       "  <thead>\n",
       "    <tr style=\"text-align: right;\">\n",
       "      <th></th>\n",
       "      <th>cust_id</th>\n",
       "      <th>tran_date</th>\n",
       "      <th>prod_subcat_code</th>\n",
       "      <th>prod_cat_code</th>\n",
       "      <th>Qty</th>\n",
       "      <th>Rate</th>\n",
       "      <th>Tax</th>\n",
       "      <th>total_amt</th>\n",
       "      <th>Store_type</th>\n",
       "    </tr>\n",
       "    <tr>\n",
       "      <th>transaction_id</th>\n",
       "      <th></th>\n",
       "      <th></th>\n",
       "      <th></th>\n",
       "      <th></th>\n",
       "      <th></th>\n",
       "      <th></th>\n",
       "      <th></th>\n",
       "      <th></th>\n",
       "      <th></th>\n",
       "    </tr>\n",
       "  </thead>\n",
       "  <tbody>\n",
       "    <tr>\n",
       "      <th>80712190438</th>\n",
       "      <td>270351</td>\n",
       "      <td>28-02-2014</td>\n",
       "      <td>1</td>\n",
       "      <td>1</td>\n",
       "      <td>-5</td>\n",
       "      <td>-772</td>\n",
       "      <td>405.300</td>\n",
       "      <td>-4265.300</td>\n",
       "      <td>e-Shop</td>\n",
       "    </tr>\n",
       "    <tr>\n",
       "      <th>29258453508</th>\n",
       "      <td>270384</td>\n",
       "      <td>27-02-2014</td>\n",
       "      <td>5</td>\n",
       "      <td>3</td>\n",
       "      <td>-5</td>\n",
       "      <td>-1497</td>\n",
       "      <td>785.925</td>\n",
       "      <td>-8270.925</td>\n",
       "      <td>e-Shop</td>\n",
       "    </tr>\n",
       "    <tr>\n",
       "      <th>51750724947</th>\n",
       "      <td>273420</td>\n",
       "      <td>24-02-2014</td>\n",
       "      <td>6</td>\n",
       "      <td>5</td>\n",
       "      <td>-2</td>\n",
       "      <td>-791</td>\n",
       "      <td>166.110</td>\n",
       "      <td>-1748.110</td>\n",
       "      <td>TeleShop</td>\n",
       "    </tr>\n",
       "    <tr>\n",
       "      <th>93274880719</th>\n",
       "      <td>271509</td>\n",
       "      <td>24-02-2014</td>\n",
       "      <td>11</td>\n",
       "      <td>6</td>\n",
       "      <td>-3</td>\n",
       "      <td>-1363</td>\n",
       "      <td>429.345</td>\n",
       "      <td>-4518.345</td>\n",
       "      <td>e-Shop</td>\n",
       "    </tr>\n",
       "    <tr>\n",
       "      <th>51750724947</th>\n",
       "      <td>273420</td>\n",
       "      <td>23-02-2014</td>\n",
       "      <td>6</td>\n",
       "      <td>5</td>\n",
       "      <td>-2</td>\n",
       "      <td>-791</td>\n",
       "      <td>166.110</td>\n",
       "      <td>-1748.110</td>\n",
       "      <td>TeleShop</td>\n",
       "    </tr>\n",
       "  </tbody>\n",
       "</table>\n",
       "</div>"
      ],
      "text/plain": [
       "                cust_id   tran_date  prod_subcat_code  prod_cat_code  Qty  \\\n",
       "transaction_id                                                              \n",
       "80712190438      270351  28-02-2014                 1              1   -5   \n",
       "29258453508      270384  27-02-2014                 5              3   -5   \n",
       "51750724947      273420  24-02-2014                 6              5   -2   \n",
       "93274880719      271509  24-02-2014                11              6   -3   \n",
       "51750724947      273420  23-02-2014                 6              5   -2   \n",
       "\n",
       "                Rate      Tax  total_amt Store_type  \n",
       "transaction_id                                       \n",
       "80712190438     -772  405.300  -4265.300     e-Shop  \n",
       "29258453508    -1497  785.925  -8270.925     e-Shop  \n",
       "51750724947     -791  166.110  -1748.110   TeleShop  \n",
       "93274880719    -1363  429.345  -4518.345     e-Shop  \n",
       "51750724947     -791  166.110  -1748.110   TeleShop  "
      ]
     },
     "execution_count": 1,
     "metadata": {},
     "output_type": "execute_result"
    }
   ],
   "source": [
    "import pandas as pd\n",
    "import numpy as np\n",
    "import warnings\n",
    "warnings.filterwarnings(action = 'ignore')\n",
    "\n",
    "# 거래 데이터 불러오기\n",
    "df = pd.read_csv('Transactions.csv', index_col = 0)\n",
    "df.head()"
   ]
  },
  {
   "cell_type": "code",
   "execution_count": 63,
   "metadata": {},
   "outputs": [
    {
     "name": "stdout",
     "output_type": "stream",
     "text": [
      "<class 'pandas.core.frame.DataFrame'>\n",
      "Int64Index: 23053 entries, 80712190438 to 77960931771\n",
      "Data columns (total 9 columns):\n",
      " #   Column            Non-Null Count  Dtype  \n",
      "---  ------            --------------  -----  \n",
      " 0   cust_id           23053 non-null  int64  \n",
      " 1   tran_date         23053 non-null  object \n",
      " 2   prod_subcat_code  23053 non-null  int64  \n",
      " 3   prod_cat_code     23053 non-null  int64  \n",
      " 4   Qty               23053 non-null  int64  \n",
      " 5   Rate              23053 non-null  int64  \n",
      " 6   Tax               23053 non-null  float64\n",
      " 7   total_amt         23053 non-null  float64\n",
      " 8   Store_type        23053 non-null  object \n",
      "dtypes: float64(2), int64(5), object(2)\n",
      "memory usage: 1.8+ MB\n"
     ]
    }
   ],
   "source": [
    "# 데이터 확인\n",
    "df.info()"
   ]
  },
  {
   "cell_type": "code",
   "execution_count": 64,
   "metadata": {},
   "outputs": [
    {
     "name": "stdout",
     "output_type": "stream",
     "text": [
      "<class 'pandas.core.frame.DataFrame'>\n",
      "Int64Index: 23053 entries, 80712190438 to 77960931771\n",
      "Data columns (total 9 columns):\n",
      " #   Column            Non-Null Count  Dtype         \n",
      "---  ------            --------------  -----         \n",
      " 0   cust_id           23053 non-null  int64         \n",
      " 1   date              23053 non-null  datetime64[ns]\n",
      " 2   prod_subcat_code  23053 non-null  int64         \n",
      " 3   prod_cat_code     23053 non-null  int64         \n",
      " 4   Qty               23053 non-null  int64         \n",
      " 5   Rate              23053 non-null  int64         \n",
      " 6   Tax               23053 non-null  float64       \n",
      " 7   total_amt         23053 non-null  float64       \n",
      " 8   Store_type        23053 non-null  object        \n",
      "dtypes: datetime64[ns](1), float64(2), int64(5), object(1)\n",
      "memory usage: 1.8+ MB\n"
     ]
    }
   ],
   "source": [
    "# 날짜 데이터 변환\n",
    "df.tran_date = pd.to_datetime(df.tran_date)\n",
    "df.rename(columns = {'tran_date' : 'date'}, inplace = True)\n",
    "df.info()"
   ]
  },
  {
   "cell_type": "code",
   "execution_count": 65,
   "metadata": {},
   "outputs": [],
   "source": [
    "def generate_features(df):\n",
    "\n",
    "    # date 열로부터 여러 피쳐를 생성한다.\n",
    "    # 날짜 변수 = date\n",
    "    df.loc[:, 'year'] = df['date'].dt.year\n",
    "    df.loc[:, 'weekofyear'] = df['date'].dt.weekofyear\n",
    "    df.loc[:, 'month'] = df['date'].dt.month\n",
    "    df.loc[:, 'dayofweek'] = df['date'].dt.dayofweek\n",
    "    df.loc[:, 'weekend'] = (df['date'].dt.weekday >=5).astype(int)\n",
    "\n",
    "    # 집계 사전을 생성한다.\n",
    "    aggs = {}\n",
    " \n",
    "    # 월별/주별 집계로는 월의 유일 값의 개수와 평균 값을 사용한다.\n",
    "    aggs['month'] = ['nunique', 'mean']\n",
    "    aggs['weekofyear'] = ['nunique', 'mean']\n",
    "    # Tax 열은 합, 최대 값, 최소 값, 평균 값으로 집계한다.\n",
    "    aggs['Tax'] = ['sum','max','min','mean']\n",
    " \n",
    "    # 고객 id 는 총 개수를 집계한다.\n",
    "    aggs['cust_id'] = ['size']\n",
    "    # 고객 id 의 유일 값의 개수를 집계한다.\n",
    "    aggs['cust_id'] = ['nunique']\n",
    "\n",
    "    # id 를 기준으로 집계한다.\n",
    "    agg_df = df.groupby('cust_id').agg(aggs)\n",
    "    agg_df = agg_df.reset_index()\n",
    "    return agg_df"
   ]
  },
  {
   "cell_type": "code",
   "execution_count": 66,
   "metadata": {},
   "outputs": [
    {
     "data": {
      "text/html": [
       "<div>\n",
       "<style scoped>\n",
       "    .dataframe tbody tr th:only-of-type {\n",
       "        vertical-align: middle;\n",
       "    }\n",
       "\n",
       "    .dataframe tbody tr th {\n",
       "        vertical-align: top;\n",
       "    }\n",
       "\n",
       "    .dataframe thead tr th {\n",
       "        text-align: left;\n",
       "    }\n",
       "</style>\n",
       "<table border=\"1\" class=\"dataframe\">\n",
       "  <thead>\n",
       "    <tr>\n",
       "      <th></th>\n",
       "      <th>cust_id</th>\n",
       "      <th colspan=\"2\" halign=\"left\">month</th>\n",
       "      <th colspan=\"2\" halign=\"left\">weekofyear</th>\n",
       "      <th colspan=\"4\" halign=\"left\">Tax</th>\n",
       "      <th>cust_id</th>\n",
       "    </tr>\n",
       "    <tr>\n",
       "      <th></th>\n",
       "      <th></th>\n",
       "      <th>nunique</th>\n",
       "      <th>mean</th>\n",
       "      <th>nunique</th>\n",
       "      <th>mean</th>\n",
       "      <th>sum</th>\n",
       "      <th>max</th>\n",
       "      <th>min</th>\n",
       "      <th>mean</th>\n",
       "      <th>nunique</th>\n",
       "    </tr>\n",
       "  </thead>\n",
       "  <tbody>\n",
       "    <tr>\n",
       "      <th>0</th>\n",
       "      <td>266783</td>\n",
       "      <td>3</td>\n",
       "      <td>7.800</td>\n",
       "      <td>4</td>\n",
       "      <td>32.400000</td>\n",
       "      <td>1405.530</td>\n",
       "      <td>554.820</td>\n",
       "      <td>29.295</td>\n",
       "      <td>281.10600</td>\n",
       "      <td>1</td>\n",
       "    </tr>\n",
       "    <tr>\n",
       "      <th>1</th>\n",
       "      <td>266784</td>\n",
       "      <td>3</td>\n",
       "      <td>7.000</td>\n",
       "      <td>3</td>\n",
       "      <td>28.333333</td>\n",
       "      <td>541.065</td>\n",
       "      <td>406.665</td>\n",
       "      <td>42.000</td>\n",
       "      <td>180.35500</td>\n",
       "      <td>1</td>\n",
       "    </tr>\n",
       "    <tr>\n",
       "      <th>2</th>\n",
       "      <td>266785</td>\n",
       "      <td>5</td>\n",
       "      <td>3.125</td>\n",
       "      <td>7</td>\n",
       "      <td>11.500000</td>\n",
       "      <td>3351.600</td>\n",
       "      <td>656.775</td>\n",
       "      <td>64.890</td>\n",
       "      <td>418.95000</td>\n",
       "      <td>1</td>\n",
       "    </tr>\n",
       "    <tr>\n",
       "      <th>3</th>\n",
       "      <td>266788</td>\n",
       "      <td>3</td>\n",
       "      <td>10.750</td>\n",
       "      <td>3</td>\n",
       "      <td>44.750000</td>\n",
       "      <td>578.970</td>\n",
       "      <td>183.120</td>\n",
       "      <td>124.740</td>\n",
       "      <td>144.74250</td>\n",
       "      <td>1</td>\n",
       "    </tr>\n",
       "    <tr>\n",
       "      <th>4</th>\n",
       "      <td>266794</td>\n",
       "      <td>7</td>\n",
       "      <td>6.500</td>\n",
       "      <td>9</td>\n",
       "      <td>26.916667</td>\n",
       "      <td>2684.745</td>\n",
       "      <td>438.060</td>\n",
       "      <td>12.915</td>\n",
       "      <td>223.72875</td>\n",
       "      <td>1</td>\n",
       "    </tr>\n",
       "    <tr>\n",
       "      <th>...</th>\n",
       "      <td>...</td>\n",
       "      <td>...</td>\n",
       "      <td>...</td>\n",
       "      <td>...</td>\n",
       "      <td>...</td>\n",
       "      <td>...</td>\n",
       "      <td>...</td>\n",
       "      <td>...</td>\n",
       "      <td>...</td>\n",
       "      <td>...</td>\n",
       "    </tr>\n",
       "    <tr>\n",
       "      <th>5501</th>\n",
       "      <td>275257</td>\n",
       "      <td>4</td>\n",
       "      <td>3.600</td>\n",
       "      <td>5</td>\n",
       "      <td>13.400000</td>\n",
       "      <td>1413.510</td>\n",
       "      <td>727.650</td>\n",
       "      <td>109.305</td>\n",
       "      <td>282.70200</td>\n",
       "      <td>1</td>\n",
       "    </tr>\n",
       "    <tr>\n",
       "      <th>5502</th>\n",
       "      <td>275261</td>\n",
       "      <td>3</td>\n",
       "      <td>6.000</td>\n",
       "      <td>3</td>\n",
       "      <td>24.400000</td>\n",
       "      <td>662.130</td>\n",
       "      <td>271.530</td>\n",
       "      <td>38.535</td>\n",
       "      <td>132.42600</td>\n",
       "      <td>1</td>\n",
       "    </tr>\n",
       "    <tr>\n",
       "      <th>5503</th>\n",
       "      <td>275262</td>\n",
       "      <td>2</td>\n",
       "      <td>5.000</td>\n",
       "      <td>2</td>\n",
       "      <td>20.500000</td>\n",
       "      <td>482.580</td>\n",
       "      <td>316.260</td>\n",
       "      <td>166.320</td>\n",
       "      <td>241.29000</td>\n",
       "      <td>1</td>\n",
       "    </tr>\n",
       "    <tr>\n",
       "      <th>5504</th>\n",
       "      <td>275264</td>\n",
       "      <td>2</td>\n",
       "      <td>6.500</td>\n",
       "      <td>2</td>\n",
       "      <td>25.000000</td>\n",
       "      <td>362.565</td>\n",
       "      <td>246.540</td>\n",
       "      <td>116.025</td>\n",
       "      <td>181.28250</td>\n",
       "      <td>1</td>\n",
       "    </tr>\n",
       "    <tr>\n",
       "      <th>5505</th>\n",
       "      <td>275265</td>\n",
       "      <td>2</td>\n",
       "      <td>9.000</td>\n",
       "      <td>3</td>\n",
       "      <td>37.333333</td>\n",
       "      <td>309.015</td>\n",
       "      <td>226.485</td>\n",
       "      <td>23.310</td>\n",
       "      <td>103.00500</td>\n",
       "      <td>1</td>\n",
       "    </tr>\n",
       "  </tbody>\n",
       "</table>\n",
       "<p>5506 rows × 10 columns</p>\n",
       "</div>"
      ],
      "text/plain": [
       "     cust_id   month         weekofyear                  Tax           \\\n",
       "             nunique    mean    nunique       mean       sum      max   \n",
       "0     266783       3   7.800          4  32.400000  1405.530  554.820   \n",
       "1     266784       3   7.000          3  28.333333   541.065  406.665   \n",
       "2     266785       5   3.125          7  11.500000  3351.600  656.775   \n",
       "3     266788       3  10.750          3  44.750000   578.970  183.120   \n",
       "4     266794       7   6.500          9  26.916667  2684.745  438.060   \n",
       "...      ...     ...     ...        ...        ...       ...      ...   \n",
       "5501  275257       4   3.600          5  13.400000  1413.510  727.650   \n",
       "5502  275261       3   6.000          3  24.400000   662.130  271.530   \n",
       "5503  275262       2   5.000          2  20.500000   482.580  316.260   \n",
       "5504  275264       2   6.500          2  25.000000   362.565  246.540   \n",
       "5505  275265       2   9.000          3  37.333333   309.015  226.485   \n",
       "\n",
       "                         cust_id  \n",
       "          min       mean nunique  \n",
       "0      29.295  281.10600       1  \n",
       "1      42.000  180.35500       1  \n",
       "2      64.890  418.95000       1  \n",
       "3     124.740  144.74250       1  \n",
       "4      12.915  223.72875       1  \n",
       "...       ...        ...     ...  \n",
       "5501  109.305  282.70200       1  \n",
       "5502   38.535  132.42600       1  \n",
       "5503  166.320  241.29000       1  \n",
       "5504  116.025  181.28250       1  \n",
       "5505   23.310  103.00500       1  \n",
       "\n",
       "[5506 rows x 10 columns]"
      ]
     },
     "execution_count": 66,
     "metadata": {},
     "output_type": "execute_result"
    }
   ],
   "source": [
    "agg_df = generate_features(df)\n",
    "agg_df"
   ]
  },
  {
   "cell_type": "code",
   "execution_count": 67,
   "metadata": {},
   "outputs": [],
   "source": [
    "import numpy as np\n",
    "\n",
    "feature_dict = {}\n",
    "\n",
    "# 평균 값\n",
    "feature_dict['mean'] = np.mean(df.Tax)\n",
    "\n",
    "# 최대 값\n",
    "feature_dict['max'] = np.max(df.Tax)\n",
    "\n",
    "# 최소 값\n",
    "feature_dict['min'] = np.min(df.Tax)\n",
    "\n",
    "# 표준편차 값\n",
    "feature_dict['std'] = np.std(df.Tax)\n",
    "\n",
    "# 분산 값\n",
    "feature_dict['var'] = np.var(df.Tax)\n",
    "\n",
    "# 최대-최소 값 차이\n",
    "feature_dict['ptp'] = np.ptp(df.Tax)\n",
    "\n",
    "# 백분율 피쳐\n",
    "feature_dict['percentile_10'] = np.percentile(df.Tax, 10)\n",
    "feature_dict['percentile_60'] = np.percentile(df.Tax, 60)\n",
    "feature_dict['percentile_90'] = np.percentile(df.Tax, 90)\n",
    "\n",
    "# 퀀타일 피쳐\n",
    "feature_dict['quantile_5'] = np.quantile(df.Tax, 0.05)\n",
    "feature_dict['quantile_95'] = np.quantile(df.Tax, 0.95)\n",
    "feature_dict['quantile_99'] = np.quantile(df.Tax, 0.99)"
   ]
  },
  {
   "cell_type": "code",
   "execution_count": 68,
   "metadata": {},
   "outputs": [
    {
     "data": {
      "text/plain": [
       "{'mean': 248.66719168871728,\n",
       " 'max': 787.5,\n",
       " 'min': 7.35,\n",
       " 'std': 187.17371280732746,\n",
       " 'var': 35033.9987660799,\n",
       " 'ptp': 780.15,\n",
       " 'percentile_10': 49.35,\n",
       " 'percentile_60': 257.6909999999999,\n",
       " 'percentile_90': 537.6,\n",
       " 'quantile_5': 31.5,\n",
       " 'quantile_95': 623.28,\n",
       " 'quantile_99': 752.85}"
      ]
     },
     "execution_count": 68,
     "metadata": {},
     "output_type": "execute_result"
    }
   ],
   "source": [
    "# 사전 형태로 여러 통계 피쳐들이 저장되는 것을 알 수 있다.\n",
    "feature_dict"
   ]
  },
  {
   "cell_type": "code",
   "execution_count": 69,
   "metadata": {},
   "outputs": [],
   "source": [
    "# tsfresh 사용\n",
    "from tsfresh.feature_extraction import feature_calculators as fc\n",
    "feature_dict2 = {}\n",
    "\n",
    "# tsfresh 를 사용한 피쳐 생성\n",
    "feature_dict2['abs_energy'] = fc.abs_energy(df.Tax)\n",
    "feature_dict2['count_above_mean'] = fc.count_above_mean(df.Tax)\n",
    "feature_dict2['count_below_mean'] = fc.count_below_mean(df.Tax)\n",
    "feature_dict2['mean_abs_change'] = fc.mean_abs_change(df.Tax)\n",
    "feature_dict2['mean_change'] = fc.mean_change(df.Tax)"
   ]
  },
  {
   "cell_type": "code",
   "execution_count": 70,
   "metadata": {},
   "outputs": [
    {
     "data": {
      "text/plain": [
       "{'abs_energy': 2233129609.3963504,\n",
       " 'count_above_mean': 9577,\n",
       " 'count_below_mean': 13476,\n",
       " 'mean_abs_change': 206.38641397709526,\n",
       " 'mean_change': -0.015545939614783967}"
      ]
     },
     "execution_count": 70,
     "metadata": {},
     "output_type": "execute_result"
    }
   ],
   "source": [
    "feature_dict2"
   ]
  },
  {
   "cell_type": "markdown",
   "metadata": {},
   "source": [
    "--------"
   ]
  },
  {
   "cell_type": "markdown",
   "metadata": {},
   "source": [
    "# polynomial features"
   ]
  },
  {
   "cell_type": "code",
   "execution_count": 59,
   "metadata": {},
   "outputs": [],
   "source": [
    "## polynomial features\n",
    "import numpy as np\n",
    "\n",
    "# 2개의 열, 100개의 행으로 이루어진 랜덤 데이터를 생성한다.\n",
    "df2 = pd.DataFrame(\n",
    "    np.random.rand(100, 2),\n",
    "    columns = [f\"f_{i}\" for i in range(1,3)]\n",
    ")"
   ]
  },
  {
   "cell_type": "code",
   "execution_count": 60,
   "metadata": {},
   "outputs": [],
   "source": [
    "from sklearn import preprocessing\n",
    "# 2 차원 다항 피쳐 클래스 객체를 생성한다.\n",
    "pf = preprocessing.PolynomialFeatures(\n",
    "     degree=2,\n",
    "     interaction_only=False,\n",
    "     include_bias=False\n",
    ")\n",
    "\n",
    "# 피쳐를 학습한다.\n",
    "pf.fit(df2)\n",
    "\n",
    "# 다항 피쳐를 생성한다.\n",
    "poly_feats = pf.transform(df2)\n",
    "\n",
    "# 모든 피쳐로 구성된 데이터프레임을 생성한다.\n",
    "num_feats = poly_feats.shape[1]\n",
    "df2_transformed = pd.DataFrame(\n",
    "     poly_feats,\n",
    "     columns=[f\"f_{i}\" for i in range(1, num_feats + 1)]\n",
    ")"
   ]
  },
  {
   "cell_type": "markdown",
   "metadata": {},
   "source": [
    "---"
   ]
  },
  {
   "cell_type": "markdown",
   "metadata": {},
   "source": [
    "## 양자화"
   ]
  },
  {
   "cell_type": "code",
   "execution_count": 84,
   "metadata": {},
   "outputs": [
    {
     "data": {
      "image/png": "[encoded data removed]",
      "text/plain": [
       "<Figure size 720x504 with 1 Axes>"
      ]
     },
     "metadata": {
      "needs_background": "light"
     },
     "output_type": "display_data"
    },
    {
     "data": {
      "image/png": "[encoded data removed]",
      "text/plain": [
       "<Figure size 720x504 with 1 Axes>"
      ]
     },
     "metadata": {
      "needs_background": "light"
     },
     "output_type": "display_data"
    }
   ],
   "source": [
    "## 양자화 (binning)\n",
    "import seaborn as sns\n",
    "import matplotlib.pyplot as plt\n",
    "\n",
    "plt.figure(figsize = (10,7))\n",
    "sns.distplot(df[\"Tax\"], color=\"blue\", label=\"TAX\")\n",
    "plt.show()\n",
    "\n",
    "plt.figure(figsize = (10,7))\n",
    "sns.distplot(np.log(1+df[\"Tax\"]), color=\"blue\", label=\"Log TAX\")\n",
    "plt.show()"
   ]
  },
  {
   "cell_type": "code",
   "execution_count": 86,
   "metadata": {},
   "outputs": [
    {
     "name": "stdout",
     "output_type": "stream",
     "text": [
      "로그 변환 전 : 35035.518547390246\n",
      "로그 변환 후 : 0.8544926152799767\n"
     ]
    }
   ],
   "source": [
    "# 로그 변환 이전과 후의 분산 비교\n",
    "print('로그 변환 전 :',df.Tax.var())\n",
    "print('로그 변환 후 :',np.log(df.Tax).var())"
   ]
  },
  {
   "cell_type": "markdown",
   "metadata": {},
   "source": [
    "-----"
   ]
  },
  {
   "cell_type": "markdown",
   "metadata": {},
   "source": [
    "## KNN을 활용한 결측값 대체"
   ]
  },
  {
   "cell_type": "code",
   "execution_count": 3,
   "metadata": {},
   "outputs": [
    {
     "data": {
      "text/plain": [
       "array([[ 6.5,  8. , 11. , 12. ,  7. ,  2. ],\n",
       "       [ 7. ,  6. , 10. , 13. ,  4. ,  3. ],\n",
       "       [ 6. ,  1. , 12. , 14. , 12. , 11. ],\n",
       "       [14. , 12. , 12. ,  9. ,  5. ,  7. ],\n",
       "       [ 2. , 10. ,  1. ,  2. ,  2. ,  6. ],\n",
       "       [ 6. , 10. ,  7. ,  9. ,  4. ,  5. ],\n",
       "       [ 3. ,  4. , 12. ,  3. ,  8. ,  3. ],\n",
       "       [ 6. ,  2. , 11. ,  8. ,  2. ,  1. ],\n",
       "       [ 8. ,  9. ,  7. ,  6. , 14. ,  5. ],\n",
       "       [ 8. ,  9.5,  4. ,  5. ,  9. ,  7. ]])"
      ]
     },
     "execution_count": 3,
     "metadata": {},
     "output_type": "execute_result"
    }
   ],
   "source": [
    "import numpy as np\n",
    "from sklearn import impute\n",
    "\n",
    "# 1 에서 15 사이의 값을 가지는 10 개의 행, 6 개의 열로 구성된 랜덤 데이터 생성\n",
    "X = np.random.randint(1, 15, (10, 6))\n",
    "\n",
    "# 데이터 타입을 실수형으로 변경한다.\n",
    "X = X.astype(float)\n",
    "\n",
    "# 랜덤하게 10 개의 값을 NaN 으로 변경한다.\n",
    "X.ravel()[np.random.choice(X.size, 10, replace=False)] = np.nan\n",
    "\n",
    "# kNN 을 사용하여 결측 값을 대치한다.\n",
    "knn_imputer = impute.KNNImputer(n_neighbors=2)\n",
    "knn_imputer.fit_transform(X)"
   ]
  }
 ],
 "metadata": {
  "kernelspec": {
   "display_name": "Python 3",
   "language": "python",
   "name": "python3"
  },
  "language_info": {
   "codemirror_mode": {
    "name": "ipython",
    "version": 3
   },
   "file_extension": ".py",
   "mimetype": "text/x-python",
   "name": "python",
   "nbconvert_exporter": "python",
   "pygments_lexer": "ipython3",
   "version": "3.7.9"
  }
 },
 "nbformat": 4,
 "nbformat_minor": 5
}
