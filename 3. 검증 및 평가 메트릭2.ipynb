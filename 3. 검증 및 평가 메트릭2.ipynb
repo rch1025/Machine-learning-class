{
 "cells": [
  {
   "cell_type": "code",
   "execution_count": 14,
   "metadata": {},
   "outputs": [],
   "source": [
    "## TP, TN, FP, FN\n",
    "def true_positive(y_true, y_pred):\n",
    "    \"\"\"\n",
    "    TP 계산하는 함수\n",
    "    param y_true : 실제 값의 목록\n",
    "    param y_pred : 예측 값의 목록\n",
    "    return : TP의 개수\n",
    "    \"\"\"\n",
    "    # 초기화\n",
    "    tp = 0\n",
    "    for yt, yp in zip(y_true, y_pred):\n",
    "        if yt == 1 and yp == 1:\n",
    "            tp += 1\n",
    "    return tp\n",
    "\n",
    "def true_negative(y_true, y_pred):\n",
    "    \"\"\"\n",
    "    TN을 계산하는 함수\n",
    "    param y_true : 실제 값의 목록\n",
    "    param y_pred : 예측 값의 목록\n",
    "    return : TN의 개수\n",
    "    \"\"\"\n",
    "    # 초기화\n",
    "    tn = 0\n",
    "    for yt, yp in zip(y_true, y_pred):\n",
    "        if yt == 0 and yp == 0:\n",
    "            tn += 1\n",
    "    return tn\n",
    "\n",
    "def false_positive(y_true, y_pred):\n",
    "    \"\"\"\n",
    "    FP을 계산하는 함수\n",
    "    param y_true : 실제 값의 목록\n",
    "    param y_pred : 예측 값의 목록\n",
    "    return : FP의 개수\n",
    "    \"\"\"\n",
    "    # 초기화\n",
    "    fp = 0\n",
    "    for yt, yp in zip(y_true, y_pred):\n",
    "        if yt == 0 and yp == 1:\n",
    "            fp += 1\n",
    "    return fp\n",
    "\n",
    "def false_negative(y_true, y_pred):\n",
    "    \"\"\"\n",
    "    FN을 계산하는 함수\n",
    "    param y_true : 실제 값의 목록\n",
    "    param y_pred : 예측 값의 목록\n",
    "    return : FN의 개수\n",
    "    \"\"\"\n",
    "    # 초기화\n",
    "    fn = 0\n",
    "    for yt, yp in zip(y_true, y_pred):\n",
    "        if yt == 1 and yp == 0:\n",
    "            fn += 1\n",
    "    return fn"
   ]
  },
  {
   "cell_type": "code",
   "execution_count": 40,
   "metadata": {},
   "outputs": [],
   "source": [
    "## 정밀도 구현 코드\n",
    "def precision(y_true, y_pred):\n",
    "    tp = true_positive(y_true, y_pred)\n",
    "    fp = false_positive(y_true, y_pred)\n",
    "    precision = tp / (tp+fp)\n",
    "    return precision"
   ]
  },
  {
   "cell_type": "code",
   "execution_count": 15,
   "metadata": {},
   "outputs": [],
   "source": [
    "## 재현율\n",
    "def recall(y_true, y_pred):\n",
    "    tp = true_positive(y_true, y_pred)\n",
    "    fn = false_negative(y_true, y_pred)\n",
    "    recall = tp / (tp+fn)\n",
    "    return recall"
   ]
  },
  {
   "cell_type": "code",
   "execution_count": 16,
   "metadata": {},
   "outputs": [],
   "source": [
    "## 재현율 함수를 tpr()로 정의 : 민감도\n",
    "def tpr(y_true, y_pred):\n",
    "    return recall(y_true, y_pred)"
   ]
  },
  {
   "cell_type": "code",
   "execution_count": 19,
   "metadata": {},
   "outputs": [],
   "source": [
    "## fpr 정의 : 1-fpr=특이도\n",
    "def fpr(y_true, y_pred):\n",
    "    fp = false_positive(y_true, y_pred)\n",
    "    tn = true_negative(y_true, y_pred)\n",
    "    return fp / (tn + fp)"
   ]
  },
  {
   "cell_type": "code",
   "execution_count": 21,
   "metadata": {},
   "outputs": [],
   "source": [
    "## 다양한 기준점에 따른 TPR과 FPR을 계산하보자\n",
    "tpr_list = []\n",
    "fpr_list = []\n",
    "\n",
    "# 타겟 값\n",
    "y_true = [0, 0, 0, 0, 1, 0, 1,\n",
    "         0, 0, 1, 0, 1, 0, 0, 1]\n",
    "\n",
    "# 샘플의 타겟 값이 1일 확률\n",
    "y_pred = [0.1, 0.3, 0.2, 0.6, 0.8, 0.05, 0.9, 0.5, 0.3, 0.66, 0.3, 0.2, 0.85, 0.15, 0.99]\n",
    "\n",
    "thresholds = [0, 0.1, 0.2, 0.3, 0.4, 0.5, 0.6, 0.7, 0.8, 0.85, 0.9, 0.99, 1.0]\n",
    "\n",
    "# 모든 기준점에 대해 tpr과 fpr을 계산한다.\n",
    "for thresh in thresholds:\n",
    "    # 주어진 기준점을 가지고 예측 확률을 범주로 변환한다.\n",
    "    temp_pred = [1 if x>= thresh else 0 for x in y_pred]\n",
    "    # tpr 계산\n",
    "    temp_tpr = tpr(y_true, temp_pred)\n",
    "    temp_fpr = fpr(y_true, temp_pred)\n",
    "    \n",
    "    # tpr과 fpr을 목록에 추가\n",
    "    tpr_list.append(temp_tpr)\n",
    "    fpr_list.append(temp_fpr)"
   ]
  },
  {
   "cell_type": "code",
   "execution_count": 22,
   "metadata": {},
   "outputs": [
    {
     "data": {
      "text/plain": [
       "0.8300000000000001"
      ]
     },
     "execution_count": 22,
     "metadata": {},
     "output_type": "execute_result"
    }
   ],
   "source": [
    "## 사이킷런을 사용한 AUC 구하기\n",
    "from sklearn import metrics\n",
    "\n",
    "# 타겟 값\n",
    "y_true = [0, 0, 0, 0, 1, 0, 1,\n",
    "         0, 0, 1, 0, 1, 0, 0, 1]\n",
    "\n",
    "# 샘플의 타겟 값이 1일 확률\n",
    "y_pred = [0.1, 0.3, 0.2, 0.6, 0.8, 0.05, \n",
    "          0.9, 0.5, 0.3, 0.66, 0.3, 0.2,\n",
    "          0.85, 0.15, 0.99]\n",
    "\n",
    "metrics.roc_auc_score(y_true, y_pred)"
   ]
  },
  {
   "cell_type": "code",
   "execution_count": 24,
   "metadata": {},
   "outputs": [],
   "source": [
    "## 다양한 기준점에 따른 TPR과 FPR을 계산하보자\n",
    "tp_list = []\n",
    "fp_list = []\n",
    "\n",
    "# 타겟 값\n",
    "y_true = [0, 0, 0, 0, 1, 0, 1,\n",
    "         0, 0, 1, 0, 1, 0, 0, 1]\n",
    "\n",
    "# 샘플의 타겟 값이 1일 확률\n",
    "y_pred = [0.1, 0.3, 0.2, 0.6, 0.8, 0.05, 0.9, 0.5, 0.3, 0.66, 0.3, 0.2, 0.85, 0.15, 0.99]\n",
    "\n",
    "thresholds = [0, 0.1, 0.2, 0.3, 0.4, 0.5, 0.6, 0.7, 0.8, 0.85, 0.9, 0.99, 1.0]\n",
    "\n",
    "# 모든 기준점에 대해 tpr과 fpr을 계산한다.\n",
    "for thresh in thresholds:\n",
    "    # 주어진 기준점을 가지고 예측 확률을 범주로 변환한다.\n",
    "    temp_pred = [1 if x>= thresh else 0 for x in y_pred]\n",
    "    # tpr 계산\n",
    "    temp_tp = true_positive(y_true, temp_pred)\n",
    "    temp_fp = false_positive(y_true, temp_pred)\n",
    "    \n",
    "    # tpr과 fpr을 목록에 추가\n",
    "    tp_list.append(temp_tp)\n",
    "    fp_list.append(temp_fp)"
   ]
  },
  {
   "cell_type": "code",
   "execution_count": 25,
   "metadata": {},
   "outputs": [],
   "source": [
    "import numpy as np\n",
    "\n",
    "def log_loss(y_true, y_proba):\n",
    "    # 극단적인 확률 값을 조정하는데 사용할 epsilon 값\n",
    "    epsilon = 1e-15\n",
    "    # 샘플 별 로그 손실을 저장할 목록\n",
    "    loss = []\n",
    "    # 모든 타겟 값과 예측 값에 대해 로그 손실을 계산\n",
    "    for yt, yp in zip(y_true, y_proba):\n",
    "        # 확률 값을 아래와 같이 조정한다\n",
    "        # 0 -> 1e-15\n",
    "        # 1 -> 1e\n",
    "        # 왜 위와 같이 조정을 할까?\n",
    "        yp = np.clip(yp, epsilon, 1-epsilon)\n",
    "        # 하나의 샘플에 대한 로그 손실 계산\n",
    "        temp_loss = - 1.0 * (\n",
    "        yt*np.log(yp)\n",
    "        + (1-yt) * np.log(1-yp)\n",
    "        )\n",
    "        # 로그 손실 목록에 추가\n",
    "        loss.append(temp_loss)\n",
    "    # 모든 샘플에 대한 로그 손실의 평균을 반환\n",
    "    return np.mean(loss)"
   ]
  },
  {
   "cell_type": "code",
   "execution_count": 26,
   "metadata": {},
   "outputs": [
    {
     "data": {
      "text/plain": [
       "0.49882711861432294"
      ]
     },
     "execution_count": 26,
     "metadata": {},
     "output_type": "execute_result"
    }
   ],
   "source": [
    "y_true = [0, 0, 0, 0, 1, 0, 1,\n",
    "         0, 0, 1, 0, 1, 0, 0, 1]\n",
    "\n",
    "# 샘플의 타겟 값이 1일 확률\n",
    "y_proba = [0.1, 0.3, 0.2, 0.6, 0.8, 0.05, 0.9, 0.5, 0.3, 0.66, 0.3, 0.2, 0.85, 0.15, 0.99]\n",
    "\n",
    "log_loss(y_true, y_proba)"
   ]
  },
  {
   "cell_type": "code",
   "execution_count": 29,
   "metadata": {},
   "outputs": [
    {
     "data": {
      "text/plain": [
       "0.49882711861432294"
      ]
     },
     "execution_count": 29,
     "metadata": {},
     "output_type": "execute_result"
    }
   ],
   "source": [
    "## 사이킷 런을 활용한 로그 손실 구하기\n",
    "from sklearn import metrics\n",
    "\n",
    "metrics.log_loss(y_true, y_proba)"
   ]
  },
  {
   "cell_type": "code",
   "execution_count": 32,
   "metadata": {},
   "outputs": [],
   "source": [
    "## 매크로 평균 정밀도\n",
    "import numpy as np\n",
    "def macro_precision(y_true, y_pred):\n",
    "    # 타겟 값의 목록에서 고유 값의 개수를 찾아 범주의 개수를 구한다.\n",
    "    num_classes = len(np.unique(y_true))\n",
    "    \n",
    "    # 정밀도를 0으로 초기화\n",
    "    precision = 0\n",
    "    \n",
    "    # 모든 범주에 대해 계산한다.\n",
    "    for class_ in range(num_classes):\n",
    "        # 현재 범주 이외의 범주는 음의 범주로 간주한다.\n",
    "        temp_true = [1 if p==class_ else 0 for p in y_true]\n",
    "        temp_pred = [1 if p==class_ else 0 for p in y_pred]\n",
    "        \n",
    "        # 현재 범주에 대한 tp를 계산\n",
    "        tp = true_positive(temp_true, temp_pred)\n",
    "        \n",
    "        # 현재 범주에 대한 fp를 계산\n",
    "        fp = false_positive(temp_true, temp_pred)\n",
    "        \n",
    "        # 현재 범주에 대한 정밀도 계산\n",
    "        temp_precision = tp / (tp+fp)\n",
    "        \n",
    "        # 모든 범주에 대한 정밀도를 합산\n",
    "        precision += temp_precision\n",
    "        \n",
    "    # 모든 범주의 정밀도의 합을 범주의 개수로 나누어 매크로 평균 정밀도 계산\n",
    "    precision /= num_classes\n",
    "    return precision\n"
   ]
  },
  {
   "cell_type": "code",
   "execution_count": 33,
   "metadata": {},
   "outputs": [],
   "source": [
    "## 마이크로 평균 정밀도\n",
    "import numpy as np\n",
    "def micro_precision(y_true, y_pred):\n",
    "    # 타겟 값의 목록에서 고유 값의 개수를 찾아 범주의 개수를 구한다.\n",
    "    num_classes = len(np.unique(y_true))\n",
    "    \n",
    "    # tp와 fp를 0으로 초기화\n",
    "    tp = 0\n",
    "    fp = 0\n",
    "    \n",
    "    # 모든 범주에 대해 계산한다.\n",
    "    for class_ in range(num_classes):\n",
    "        # 현재 범주 이외의 범주는 음의 범주로 간주한다.\n",
    "        temp_true = [1 if p==class_ else 0 for p in y_true]\n",
    "        temp_pred = [1 if p==class_ else 0 for p in y_pred]\n",
    "        \n",
    "        # 현재 범주에 대한 tp를 계산\n",
    "        tp += true_positive(temp_true, temp_pred)\n",
    "        \n",
    "    # 전체 정밀도를 계산한다.\n",
    "    precision = tp / (tp+fp)\n",
    "    return precision"
   ]
  },
  {
   "cell_type": "code",
   "execution_count": 35,
   "metadata": {},
   "outputs": [],
   "source": [
    "## 가중 평균 정밀도이다.\n",
    "from collections import Counter\n",
    "import numpy as np\n",
    "\n",
    "def weighted_precision(y_true, y_pred):\n",
    "    \n",
    "    # 타겟 값의 목록에서 고유 값의 개수를 찾아 범주의 개수를 구한다.\n",
    "    num_classes = len(np.unique(y_true))\n",
    "    \n",
    "    # 다음과 같은 범주 : 샘플 개수 사전을 만든다.\n",
    "    class_counts = Counter(y_true)\n",
    "    \n",
    "    # 정밀도를 0으로 초기화한다.\n",
    "    precision = 0\n",
    "    \n",
    "    # 모든 범주에 대해 계산한다.\n",
    "    for class_ in range(num_classes):\n",
    "        # 현재 범주 이외의 범주는 음의 범주로 간주한다.\n",
    "        temp_true = [1 if p==class_ else 0 for p in y_true]\n",
    "        temp_pred = [1 if p==class_ else 0 for p in y_pred]\n",
    "        \n",
    "        # 현재 범주에 대한 tp를 계산\n",
    "        tp = true_positive(temp_true, temp_pred)\n",
    "        \n",
    "        # 현재 범주에 대한 fp를 계산\n",
    "        fp = false_positive(temp_true, temp_pred)\n",
    "        \n",
    "        # 현재 범주에 대한 정밀도 계산\n",
    "        temp_precision = tp / (tp+fp)\n",
    "        \n",
    "        # 정밀도에 현재 범주의 샘플 수를 곱한다.\n",
    "        weighted_precision = class_counts[class_] * temp_precision\n",
    "        \n",
    "        # 전체 정밀도에 더한다.\n",
    "        precision += weighted_precision\n",
    "        \n",
    "        # 전체 정밀도를 전체 샘플 수로 나누어 가중 평균 정밀도를 구한다.\n",
    "    overall_precision = precision / len(y_true)\n",
    "    return overall_precision"
   ]
  },
  {
   "cell_type": "code",
   "execution_count": 37,
   "metadata": {},
   "outputs": [
    {
     "name": "stdout",
     "output_type": "stream",
     "text": [
      "0.3611111111111111\n",
      "0.3611111111111111\n",
      "1.0\n",
      "0.4444444444444444\n",
      "0.39814814814814814\n",
      "0.39814814814814814\n"
     ]
    }
   ],
   "source": [
    "from sklearn import metrics\n",
    "\n",
    "y_true = [0, 1, 2, 0, 1, 2, 0, 2, 2]\n",
    "y_pred = [0, 2, 1, 0, 2, 1, 0, 0, 2]\n",
    "\n",
    "print(macro_precision(y_true, y_pred))\n",
    "print(metrics.precision_score(y_true, y_pred, average = 'macro'))\n",
    "print(micro_precision(y_true, y_pred))\n",
    "print(metrics.precision_score(y_true, y_pred, average = 'micro'))\n",
    "print(weighted_precision(y_true, y_pred))\n",
    "print(metrics.precision_score(y_true, y_pred, average = 'weighted'))"
   ]
  },
  {
   "cell_type": "code",
   "execution_count": 45,
   "metadata": {},
   "outputs": [],
   "source": [
    "## 가중 평균 F1 구하기.\n",
    "from collections import Counter\n",
    "import numpy as np\n",
    "\n",
    "def weighted_f1(y_true, y_pred):\n",
    "    \n",
    "    # 타겟 값의 목록에서 고유 값의 개수를 찾아 범주의 개수를 구한다.\n",
    "    num_classes = len(np.unique(y_true))\n",
    "    \n",
    "    # 다음과 같은 범주 : 샘플 개수 사전을 만든다.\n",
    "    class_counts = Counter(y_true)\n",
    "    \n",
    "    # f1을 0으로 초기화 한다.\n",
    "    f1 = 0\n",
    "    \n",
    "    # 모든 범주에 대한 계산\n",
    "    for class_ in range(num_classes):\n",
    "        # 현재 범주 이외의 범주는 음의 범주로 간주한다.\n",
    "        temp_true = [1 if p==class_ else 0 for p in y_true]\n",
    "        temp_pred = [1 if p==class_ else 0 for p in y_pred]\n",
    "        \n",
    "        # 현재 범주에 대한 정밀도와 리콜을 계산한다.\n",
    "        p = precision(temp_true, temp_pred)\n",
    "        r = recall(temp_true, temp_pred)\n",
    "        \n",
    "        # 현재 범주의 f1을 계산한다.\n",
    "        if p + r != 0:\n",
    "            temp_f1 = 2*p*r / (p+r)\n",
    "        else:\n",
    "            temp_f1 = 0\n",
    "            \n",
    "        # f1에 현재 범주의 샘플 수를 곱한다.\n",
    "        weighted_f1 = class_counts[class_]*temp_f1\n",
    "        \n",
    "        # 전체 f1에 함한다.\n",
    "        f1 += weighted_f1\n",
    "        \n",
    "    # 전체 f1을 전체 샘플 수로 나누어 가중 평균 f1을 구한다.\n",
    "    overall_f1 = f1 / len(y_true)\n",
    "    return overall_f1"
   ]
  },
  {
   "cell_type": "code",
   "execution_count": 51,
   "metadata": {},
   "outputs": [
    {
     "name": "stdout",
     "output_type": "stream",
     "text": [
      "0.41269841269841273\n",
      "0.41269841269841273\n"
     ]
    }
   ],
   "source": [
    "## 사이킷런을 활용환 가중 평균 f1 스코어와 비교\n",
    "from sklearn import metrics\n",
    "\n",
    "y_true = [0, 1, 2, 0, 1, 2, 0, 2, 2]\n",
    "y_pred = [0, 2, 1, 0, 2, 1, 0, 0, 2]\n",
    "\n",
    "print(weighted_f1(y_true, y_pred))\n",
    "\n",
    "print(metrics.f1_score(y_true, y_pred, average = 'weighted'))"
   ]
  },
  {
   "cell_type": "code",
   "execution_count": null,
   "metadata": {},
   "outputs": [],
   "source": []
  }
 ],
 "metadata": {
  "kernelspec": {
   "display_name": "Python 3",
   "language": "python",
   "name": "python3"
  },
  "language_info": {
   "codemirror_mode": {
    "name": "ipython",
    "version": 3
   },
   "file_extension": ".py",
   "mimetype": "text/x-python",
   "name": "python",
   "nbconvert_exporter": "python",
   "pygments_lexer": "ipython3",
   "version": "3.7.6"
  }
 },
 "nbformat": 4,
 "nbformat_minor": 4
}
