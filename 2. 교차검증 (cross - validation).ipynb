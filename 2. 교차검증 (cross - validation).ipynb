{
 "cells": [
  {
   "cell_type": "code",
   "execution_count": 9,
   "metadata": {},
   "outputs": [
    {
     "data": {
      "text/html": [
       "<div>\n",
       "<style scoped>\n",
       "    .dataframe tbody tr th:only-of-type {\n",
       "        vertical-align: middle;\n",
       "    }\n",
       "\n",
       "    .dataframe tbody tr th {\n",
       "        vertical-align: top;\n",
       "    }\n",
       "\n",
       "    .dataframe thead th {\n",
       "        text-align: right;\n",
       "    }\n",
       "</style>\n",
       "<table border=\"1\" class=\"dataframe\">\n",
       "  <thead>\n",
       "    <tr style=\"text-align: right;\">\n",
       "      <th></th>\n",
       "      <th>fixed acidity</th>\n",
       "      <th>volatile acidity</th>\n",
       "      <th>citric acid</th>\n",
       "      <th>residual sugar</th>\n",
       "      <th>chlorides</th>\n",
       "      <th>free sulfur dioxide</th>\n",
       "      <th>total sulfur dioxide</th>\n",
       "      <th>density</th>\n",
       "      <th>pH</th>\n",
       "      <th>sulphates</th>\n",
       "      <th>alcohol</th>\n",
       "      <th>quality</th>\n",
       "    </tr>\n",
       "  </thead>\n",
       "  <tbody>\n",
       "    <tr>\n",
       "      <th>0</th>\n",
       "      <td>7.4</td>\n",
       "      <td>0.70</td>\n",
       "      <td>0.00</td>\n",
       "      <td>1.9</td>\n",
       "      <td>0.076</td>\n",
       "      <td>11.0</td>\n",
       "      <td>34.0</td>\n",
       "      <td>0.9978</td>\n",
       "      <td>3.51</td>\n",
       "      <td>0.56</td>\n",
       "      <td>9.4</td>\n",
       "      <td>5</td>\n",
       "    </tr>\n",
       "    <tr>\n",
       "      <th>1</th>\n",
       "      <td>7.8</td>\n",
       "      <td>0.88</td>\n",
       "      <td>0.00</td>\n",
       "      <td>2.6</td>\n",
       "      <td>0.098</td>\n",
       "      <td>25.0</td>\n",
       "      <td>67.0</td>\n",
       "      <td>0.9968</td>\n",
       "      <td>3.20</td>\n",
       "      <td>0.68</td>\n",
       "      <td>9.8</td>\n",
       "      <td>5</td>\n",
       "    </tr>\n",
       "    <tr>\n",
       "      <th>2</th>\n",
       "      <td>7.8</td>\n",
       "      <td>0.76</td>\n",
       "      <td>0.04</td>\n",
       "      <td>2.3</td>\n",
       "      <td>0.092</td>\n",
       "      <td>15.0</td>\n",
       "      <td>54.0</td>\n",
       "      <td>0.9970</td>\n",
       "      <td>3.26</td>\n",
       "      <td>0.65</td>\n",
       "      <td>9.8</td>\n",
       "      <td>5</td>\n",
       "    </tr>\n",
       "    <tr>\n",
       "      <th>3</th>\n",
       "      <td>11.2</td>\n",
       "      <td>0.28</td>\n",
       "      <td>0.56</td>\n",
       "      <td>1.9</td>\n",
       "      <td>0.075</td>\n",
       "      <td>17.0</td>\n",
       "      <td>60.0</td>\n",
       "      <td>0.9980</td>\n",
       "      <td>3.16</td>\n",
       "      <td>0.58</td>\n",
       "      <td>9.8</td>\n",
       "      <td>6</td>\n",
       "    </tr>\n",
       "    <tr>\n",
       "      <th>4</th>\n",
       "      <td>7.4</td>\n",
       "      <td>0.70</td>\n",
       "      <td>0.00</td>\n",
       "      <td>1.9</td>\n",
       "      <td>0.076</td>\n",
       "      <td>11.0</td>\n",
       "      <td>34.0</td>\n",
       "      <td>0.9978</td>\n",
       "      <td>3.51</td>\n",
       "      <td>0.56</td>\n",
       "      <td>9.4</td>\n",
       "      <td>5</td>\n",
       "    </tr>\n",
       "  </tbody>\n",
       "</table>\n",
       "</div>"
      ],
      "text/plain": [
       "   fixed acidity  volatile acidity  citric acid  residual sugar  chlorides  \\\n",
       "0            7.4              0.70         0.00             1.9      0.076   \n",
       "1            7.8              0.88         0.00             2.6      0.098   \n",
       "2            7.8              0.76         0.04             2.3      0.092   \n",
       "3           11.2              0.28         0.56             1.9      0.075   \n",
       "4            7.4              0.70         0.00             1.9      0.076   \n",
       "\n",
       "   free sulfur dioxide  total sulfur dioxide  density    pH  sulphates  \\\n",
       "0                 11.0                  34.0   0.9978  3.51       0.56   \n",
       "1                 25.0                  67.0   0.9968  3.20       0.68   \n",
       "2                 15.0                  54.0   0.9970  3.26       0.65   \n",
       "3                 17.0                  60.0   0.9980  3.16       0.58   \n",
       "4                 11.0                  34.0   0.9978  3.51       0.56   \n",
       "\n",
       "   alcohol  quality  \n",
       "0      9.4        5  \n",
       "1      9.8        5  \n",
       "2      9.8        5  \n",
       "3      9.8        6  \n",
       "4      9.4        5  "
      ]
     },
     "execution_count": 9,
     "metadata": {},
     "output_type": "execute_result"
    }
   ],
   "source": [
    "import pandas as pd\n",
    "df = pd.read_csv('winequality-red.csv')\n",
    "df.head()"
   ]
  },
  {
   "cell_type": "code",
   "execution_count": 10,
   "metadata": {},
   "outputs": [
    {
     "data": {
      "text/plain": [
       "2    681\n",
       "3    638\n",
       "4    199\n",
       "1     53\n",
       "5     18\n",
       "0     10\n",
       "Name: quality, dtype: int64"
      ]
     },
     "execution_count": 10,
     "metadata": {},
     "output_type": "execute_result"
    }
   ],
   "source": [
    "# 와인의 질 값을 0에서 5 사이의 값으로 매핑\n",
    "quality_mapping = {\n",
    "    3:0,\n",
    "    4:1,\n",
    "    5:2,\n",
    "    6:3,\n",
    "    7:4,\n",
    "    8:5\n",
    "}\n",
    "\n",
    "# 판다스의 map 함수를 사용하여 주어진 열의 값을 사전에 정의된 값으로 매핑할 수 있음\n",
    "df.loc[:, 'quality'] = df.quality.map(quality_mapping)\n",
    "df.quality.value_counts()"
   ]
  },
  {
   "cell_type": "code",
   "execution_count": 11,
   "metadata": {},
   "outputs": [],
   "source": [
    "# sample 함수에 frac=1을 적용하여 데이터프레임을 섞는다.\n",
    "# 이 과정이 인덱스 값을 변경하므로 인덱스를 reset 한다.\n",
    "df = df.sample(frac = 1).reset_index(drop = True)\n",
    "\n",
    "# 첫 1000 샘플을 학습용으로 선택한다.\n",
    "df_train = df.head(1000)\n",
    "\n",
    "# 나머지 샘플을 시험/검증용으로 선택한다.\n",
    "df_test = df.tail(599)"
   ]
  },
  {
   "cell_type": "code",
   "execution_count": 12,
   "metadata": {},
   "outputs": [
    {
     "data": {
      "text/plain": [
       "DecisionTreeClassifier(max_depth=3)"
      ]
     },
     "execution_count": 12,
     "metadata": {},
     "output_type": "execute_result"
    }
   ],
   "source": [
    "# 모듈 불러오기\n",
    "from sklearn import tree\n",
    "from sklearn import metrics\n",
    "\n",
    "# 의사결정트리 모델 클래스를 초기화\n",
    "# 파라미터는 max_depth만을 사용하며 3으로 지정\n",
    "clf = tree.DecisionTreeClassifier(max_depth = 3)\n",
    "\n",
    "# 학습에 사용할 변수 설정\n",
    "cols = ['fixed acidity',\n",
    "       'volatile acidity',\n",
    "       'citric acid',\n",
    "       'residual sugar',\n",
    "       'chlorides',\n",
    "       'free sulfur dioxide',\n",
    "       'total sulfur dioxide',\n",
    "       'density',\n",
    "       'pH',\n",
    "       'sulphates',\n",
    "       'alcohol']\n",
    "\n",
    "# 선택한 변수들과 앞에서 매핑한 와인의 질의 값으로 모델을 학습\n",
    "clf.fit(df_train[cols], df_train.quality)"
   ]
  },
  {
   "cell_type": "code",
   "execution_count": 14,
   "metadata": {},
   "outputs": [
    {
     "name": "stdout",
     "output_type": "stream",
     "text": [
      "학습 데이터 정확도 : 0.583\n",
      "평가 데이터 정확도 : 0.5442404006677797\n"
     ]
    }
   ],
   "source": [
    "# 학습 데이터에 대한 예측값 생성\n",
    "train_pred = clf.predict(df_train[cols])\n",
    "\n",
    "# 평가 데이터에 대한 예측값 생성\n",
    "test_pred = clf.predict(df_test[cols])\n",
    "\n",
    "# 학습 데이터 예측 값의 정확도를 계산\n",
    "train_acc = metrics.accuracy_score(\n",
    "df_train.quality, train_pred)\n",
    "\n",
    "# 평가 데이터 예측 값의 정확도 계산\n",
    "test_acc = metrics.accuracy_score(\n",
    "df_test.quality, test_pred)\n",
    "\n",
    "print('학습 데이터 정확도 :', train_acc)\n",
    "print('평가 데이터 정확도 :', test_acc)"
   ]
  },
  {
   "cell_type": "code",
   "execution_count": 15,
   "metadata": {},
   "outputs": [
    {
     "data": {
      "text/plain": [
       "DecisionTreeClassifier(max_depth=7)"
      ]
     },
     "execution_count": 15,
     "metadata": {},
     "output_type": "execute_result"
    }
   ],
   "source": [
    "# 모듈 불러오기\n",
    "from sklearn import tree\n",
    "from sklearn import metrics\n",
    "\n",
    "# 의사결정트리 모델 클래스를 초기화\n",
    "# 파라미터는 max_depth만을 사용하며 7으로 지정\n",
    "clf = tree.DecisionTreeClassifier(max_depth = 7)\n",
    "\n",
    "# 학습에 사용할 변수 설정\n",
    "cols = ['fixed acidity',\n",
    "       'volatile acidity',\n",
    "       'citric acid',\n",
    "       'residual sugar',\n",
    "       'chlorides',\n",
    "       'free sulfur dioxide',\n",
    "       'total sulfur dioxide',\n",
    "       'density',\n",
    "       'pH',\n",
    "       'sulphates',\n",
    "       'alcohol']\n",
    "\n",
    "# 선택한 변수들과 앞에서 매핑한 와인의 질의 값으로 모델을 학습\n",
    "clf.fit(df_train[cols], df_train.quality)"
   ]
  },
  {
   "cell_type": "code",
   "execution_count": 16,
   "metadata": {},
   "outputs": [
    {
     "name": "stdout",
     "output_type": "stream",
     "text": [
      "학습 데이터 정확도 : 0.759\n",
      "평가 데이터 정확도 : 0.5876460767946577\n"
     ]
    }
   ],
   "source": [
    "# 학습 데이터에 대한 예측값 생성\n",
    "train_pred = clf.predict(df_train[cols])\n",
    "\n",
    "# 평가 데이터에 대한 예측값 생성\n",
    "test_pred = clf.predict(df_test[cols])\n",
    "\n",
    "# 학습 데이터 예측 값의 정확도를 계산\n",
    "train_acc = metrics.accuracy_score(\n",
    "df_train.quality, train_pred)\n",
    "\n",
    "# 평가 데이터 예측 값의 정확도 계산\n",
    "test_acc = metrics.accuracy_score(\n",
    "df_test.quality, test_pred)\n",
    "\n",
    "print('학습 데이터 정확도 :', train_acc)\n",
    "print('평가 데이터 정확도 :', test_acc)"
   ]
  },
  {
   "cell_type": "code",
   "execution_count": 21,
   "metadata": {},
   "outputs": [
    {
     "data": {
      "image/png": "[encoded data removed]",
      "text/plain": [
       "<Figure size 720x360 with 1 Axes>"
      ]
     },
     "metadata": {
      "needs_background": "light"
     },
     "output_type": "display_data"
    }
   ],
   "source": [
    "# max_depth에 따른 정확도 확인\n",
    "from sklearn import tree\n",
    "from sklearn import metrics\n",
    "import matplotlib\n",
    "import matplotlib.pyplot as plt\n",
    "import seaborn as sns\n",
    "\n",
    "# 그래프의 텍스트 크기를 설정한다.\n",
    "matplotlib.rc('xtick', labelsize = 20)\n",
    "matplotlib.rc('ytick', labelsize = 20)\n",
    "%matplotlib inline\n",
    "\n",
    "train_accs = [0.5]\n",
    "test_accs = [0.5]\n",
    "\n",
    "# depth를 3부터 30까지 정하기\n",
    "for depth in range(3,31):\n",
    "    # 모델 초기화\n",
    "    clf = tree.DecisionTreeClassifier(max_depth = depth)\n",
    "    \n",
    "    # 루프 밖에서 설정 가능\n",
    "    # 학습에 사용할 변수 설정\n",
    "    cols = ['fixed acidity',\n",
    "       'volatile acidity',\n",
    "       'citric acid',\n",
    "       'residual sugar',\n",
    "       'chlorides',\n",
    "       'free sulfur dioxide',\n",
    "       'total sulfur dioxide',\n",
    "       'density',\n",
    "       'pH',\n",
    "       'sulphates',\n",
    "       'alcohol']\n",
    "\n",
    "    # 선택한 변수들과 앞에서 매핑한 와인의 질의 값으로 모델을 학습\n",
    "    clf.fit(df_train[cols], df_train.quality)\n",
    "    \n",
    "    # 예측값 생성\n",
    "    train_pred = clf.predict(df_train[cols])\n",
    "    test_pred = clf.predict(df_test[cols])\n",
    "    \n",
    "    # 정확도 계산\n",
    "    train_acc = metrics.accuracy_score(\n",
    "    df_train.quality, train_pred)\n",
    "    test_acc = metrics.accuracy_score(\n",
    "    df_test.quality, test_pred)\n",
    "    \n",
    "    # 정확도 리스트에 추가\n",
    "    train_accs.append(train_acc)\n",
    "    test_accs.append(test_acc)\n",
    "    \n",
    "# 그래프 그리기\n",
    "plt.figure(figsize = (10,5))\n",
    "sns.set_style('whitegrid')\n",
    "plt.plot(train_accs, label = 'train acc')\n",
    "plt.plot(test_accs, label = 'test acc')\n",
    "plt.legend(loc = 'upper left', prop = {'size':15})\n",
    "plt.xticks(range(0, 26,5))\n",
    "plt.xlabel('max_depth', size = 20)\n",
    "plt.ylabel('acc', size = 20)\n",
    "plt.show()"
   ]
  },
  {
   "cell_type": "code",
   "execution_count": null,
   "metadata": {},
   "outputs": [],
   "source": [
    "# 교차검증\n",
    "import pandas as pd\n",
    "from sklearn import model_selection\n",
    "\n",
    "if __name__ == \"__main__\":\n",
    "    # 학습 데이터\n",
    "    df = pd.read_csv('train.csv')\n",
    "    \n",
    "    # kfold라는 새로운 열을 생성하고 -1로 채운다.\n",
    "    df['kfold'] = -1\n",
    "    \n",
    "    # 다음 단계는 데이터의 행을 랜덤하게 섞는 것이다.\n",
    "    df = df.sample(frac = 1).reset_index(drop = True)\n",
    "    \n",
    "    # model selection 모듈의 kfold 클래스를 초기화한다.\n",
    "    kf = model_selection.KFold(n_splits = 5)\n",
    "    \n",
    "    # kfold 열을 폴드 아이디로 설정한다.\n",
    "    for fold, (trn_, val_) in enumerate(kf.split(X=df)):\n",
    "        df.loc[val_, 'kfold'] = fold\n",
    "    \n",
    "    # 데이터를 kfold 열과 함께 새로운 csv 파일로 저장한다.\n",
    "    df.to_csv('train_folds.csv', index = False)\n",
    "    \n",
    "## 이 코드는 거의 모든 종류의 데이터에 사용할 수 있다. 예를 들어 이미지 데이터의 경우, 이미지 아이디, \n",
    "## 파일위치, 레이블을 CSV 파일에 저장한 후, 위 코드를 사용하여 k-폴드 교차검증 인덱스 값을 저장한다.\n"
   ]
  },
  {
   "cell_type": "code",
   "execution_count": null,
   "metadata": {},
   "outputs": [],
   "source": [
    "# 계층별 k-fold 교차검증\n",
    "import pandas as pd\n",
    "from sklearn import model_selection\n",
    "\n",
    "if __name__ == \"__main__\":\n",
    "    # 학습 데이터\n",
    "    df = pd.read_csv('train.csv')\n",
    "    \n",
    "    # kfold라는 새로운 열을 생성하고 -1로 채운다.\n",
    "    df['kfold'] = -1\n",
    "    \n",
    "    # 다음 단계는 데이터의 행을 랜덤하게 섞는 것이다.\n",
    "    df = df.sample(frac = 1).reset_index(drop = True)\n",
    "    \n",
    "    # model selection 모듈의 kfold 클래스를 초기화한다.\n",
    "    kf = model_selection.StratifiedKFold(n_splits = 5)\n",
    "    \n",
    "    # kfold 열을 폴드 아이디로 설정한다.\n",
    "    for fold, (trn_, val_) in enumerate(kf.split(X=df, y=y)):\n",
    "        df.loc[val_, 'kfold'] = f\n",
    "    \n",
    "    # 데이터를 kfold 열과 함께 새로운 csv 파일로 저장한다.\n",
    "    df.to_csv('train_folds.csv', index = False)"
   ]
  },
  {
   "cell_type": "code",
   "execution_count": 23,
   "metadata": {},
   "outputs": [
    {
     "data": {
      "text/plain": [
       "Text(0, 0.5, 'count')"
      ]
     },
     "execution_count": 23,
     "metadata": {},
     "output_type": "execute_result"
    },
    {
     "data": {
      "image/png": "[encoded data removed]",
      "text/plain": [
       "<Figure size 432x288 with 1 Axes>"
      ]
     },
     "metadata": {},
     "output_type": "display_data"
    }
   ],
   "source": [
    "# 레드와인 데이터의 타겟 변수 분포를 보자\n",
    "b = sns.countplot(x = 'quality', data = df)\n",
    "b.set_xlabel('quality', fontsize = 20)\n",
    "b.set_ylabel('count', fontsize = 20)\n",
    "\n",
    "## 타겟 변수의 분포가 치우쳐져 있음을 알 수 있다."
   ]
  },
  {
   "cell_type": "code",
   "execution_count": null,
   "metadata": {},
   "outputs": [],
   "source": [
    "# 회귀분석에서의 계층 k-폴드 예제\n",
    "import numpy as np\n",
    "import pandas as pd\n",
    "\n",
    "from sklearn import datasets\n",
    "from sklearn import model_selection\n",
    "\n",
    "def create_folds(data):\n",
    "    # kfold라는 새로운 열을 생성하고 -1로 채운다.\n",
    "    data['kfold'] = -1\n",
    "    \n",
    "    # 데이터의 행을 랜덤하게 섞는다.\n",
    "    data = data.sample(frac=1).reset_index(drop = True)\n",
    "    \n",
    "    # Sturge 룰로 타겟 변수를 나눌 그룹의 개수를 계산한다.\n",
    "    # 여기서는 floor를 사용했지만 round를 사용할 수도 있다.\n",
    "    num_bins = int(np.floor(1+np.log2(len(data)))).astype(np.int32)\n",
    "    \n",
    "    # 타겟 변수를 그룹으로 나눈다.\n",
    "    data.loc[:, 'bins'] = pd.cut(\n",
    "    data['target'], bins = num_bins, labels = False)\n",
    "    \n",
    "    # model selection 모듈의 kfold 클래스를 초기화한다.\n",
    "    kf = model_selection.StratifiedKFold(n_splits = 5)\n",
    "    \n",
    "    # kfold 열을 채운다.\n",
    "    # 원래 타겟 변수 값이 아닌 그룹 인덱스를 사용한다.\n",
    "    for f, (t_, v_) in enumerate(kf.split(X = data,\n",
    "                                         y = data.bins.values)):\n",
    "        data.loc[v_, 'kfold'] = f\n",
    "        \n",
    "    # 중간 과정에서 사용한 bins 열을 삭제한다.\n",
    "    data = data.drop('bins', axis = 1)\n",
    "    # 폴드 값을 추가한 데이터프레임을 반환한다.\n",
    "    return data\n",
    "\n",
    "if __name__ == '__main__':\n",
    "    # 타겟 변수 1개, 피쳐 100개로 구성된 샘플 15000개의 샘플 데이터를 생성한다.\n",
    "    X, y = datasets.make_regression(\n",
    "    n_samples = 15000, n_features = 100, n_targets = 1)\n",
    "    \n",
    "    # numpy 행렬로부터 데이터프레임을 생성한다.\n",
    "    df = np.DataFrame(\n",
    "    X,\n",
    "    columns = [f\"f_{i}\" for i in range(X.shape[1])])\n",
    "    df.loc[:, 'target'] = y\n",
    "    \n",
    "    # 폴드를 생성한다.\n",
    "    df = create_folds(df)"
   ]
  }
 ],
 "metadata": {
  "kernelspec": {
   "display_name": "Python 3",
   "language": "python",
   "name": "python3"
  },
  "language_info": {
   "codemirror_mode": {
    "name": "ipython",
    "version": 3
   },
   "file_extension": ".py",
   "mimetype": "text/x-python",
   "name": "python",
   "nbconvert_exporter": "python",
   "pygments_lexer": "ipython3",
   "version": "3.7.9"
  }
 },
 "nbformat": 4,
 "nbformat_minor": 4
}
