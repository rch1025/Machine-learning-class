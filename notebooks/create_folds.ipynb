{
 "cells": [
  {
   "cell_type": "markdown",
   "metadata": {},
   "source": [
    "## py파일로 변환 해주어야 함"
   ]
  },
  {
   "cell_type": "code",
   "execution_count": 5,
   "metadata": {},
   "outputs": [],
   "source": [
    "## mnist.csv 파일을 가지고 mnist_train_folds를 생성한다.\n",
    "## 각 샘플이 어떤 fold에 속했는지를 알려주는 kfold라는 새로운 행이 있다.\n",
    "\n",
    "import pandas as pd\n",
    "from sklearn import model_selection\n",
    "\n",
    "if __name__ == \"__main__\":\n",
    "    # 학습 데이터\n",
    "    df = pd.read_csv('mnist_train.csv')\n",
    "    \n",
    "    # kfold라는 새로운 열을 생성하고 -1로 채운다.\n",
    "    df['kfold'] = -1\n",
    "    \n",
    "    # 다음 단계는 데이터의 행을 랜덤하게 섞는 것이다.\n",
    "    df = df.sample(frac = 1).reset_index(drop = True)\n",
    "    \n",
    "    # model selection 모듈의 kfold 클래스를 초기화한다.\n",
    "    kf = model_selection.KFold(n_splits = 5)\n",
    "    \n",
    "    # kfold 열을 폴드 아이디로 설정한다.\n",
    "    for fold, (trn_, val_) in enumerate(kf.split(X=df)):\n",
    "        df.loc[val_, 'kfold'] = fold\n",
    "    \n",
    "    # 데이터를 kfold 열과 함께 새로운 csv 파일로 저장한다.\n",
    "    df.to_csv('mnist_train_folds.csv', index = False)"
   ]
  }
 ],
 "metadata": {
  "kernelspec": {
   "display_name": "Python 3",
   "language": "python",
   "name": "python3"
  },
  "language_info": {
   "codemirror_mode": {
    "name": "ipython",
    "version": 3
   },
   "file_extension": ".py",
   "mimetype": "text/x-python",
   "name": "python",
   "nbconvert_exporter": "python",
   "pygments_lexer": "ipython3",
   "version": "3.7.6"
  }
 },
 "nbformat": 4,
 "nbformat_minor": 4
}
