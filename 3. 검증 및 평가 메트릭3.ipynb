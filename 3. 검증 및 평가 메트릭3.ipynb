{
 "cells": [
  {
   "cell_type": "code",
   "execution_count": 1,
   "metadata": {},
   "outputs": [],
   "source": [
    "## MAE : 절대 오차의 평균\n",
    "import numpy as np\n",
    "\n",
    "def mean_absolute_error(y_true, y_pred):\n",
    "    \n",
    "    # 오차를 0으로 초기화\n",
    "    error = 0\n",
    "    # 모든 샘플에 대해 오차를 계산\n",
    "    for yt, yp in zip(y_true, y_pred):\n",
    "        \n",
    "        # 절대오차를 계산한다.\n",
    "        # 전체 오차에 합한다.\n",
    "        error += np.abs(yt - yp)\n",
    "        \n",
    "    #  전체 절대오차의 평균을 구한다.\n",
    "    return error / len(y_true)"
   ]
  },
  {
   "cell_type": "code",
   "execution_count": 2,
   "metadata": {},
   "outputs": [],
   "source": [
    "## MSE : 제곱 오차의 평균\n",
    "def mean_squared_error(y_true, y_pred):\n",
    "    # 오차를 0으로 초기화\n",
    "    error = 0\n",
    "    # 모든 샘플에 대해 오차를 계산\n",
    "    for yt, yp in zip(y_true, y_pred):\n",
    "        \n",
    "        # 절대오차를 계산한다.\n",
    "        # 전체 오차에 합한다.\n",
    "        error += (yt - yp)**2\n",
    "        \n",
    "    #  전체 절대오차의 평균을 구한다.\n",
    "    return error / len(y_true)"
   ]
  },
  {
   "cell_type": "code",
   "execution_count": 3,
   "metadata": {},
   "outputs": [],
   "source": [
    "## MSLE : 제곱 로그 오차의 평균\n",
    "def mean_squared_log_error(y_true, y_pred):\n",
    "    # 오차를 0으로 초기화\n",
    "    error = 0\n",
    "    # 모든 샘플에 대해 오차를 계산\n",
    "    for yt, yp in zip(y_true, y_pred):\n",
    "        \n",
    "        # 절대오차를 계산한다.\n",
    "        # 전체 오차에 합한다.\n",
    "        error += (np.log(1+yt) - np.log(1+yp))**2\n",
    "        \n",
    "    #  전체 절대오차의 평균을 구한다.\n",
    "    return error / len(y_true)"
   ]
  },
  {
   "cell_type": "code",
   "execution_count": 4,
   "metadata": {},
   "outputs": [],
   "source": [
    "## MPE : 백분율오차의 평균\n",
    "def mean_percentage_error(y_true, y_pred):\n",
    "    # 오차를 0으로 초기화\n",
    "    error = 0\n",
    "    # 모든 샘플에 대해 오차를 계산\n",
    "    for yt, yp in zip(y_true, y_pred):\n",
    "        # 백분율 오차를 계산하여 전체 오차에 합한다.\n",
    "        error += (yt - yp) / yt\n",
    "        \n",
    "    #  전체 오차의 평균을 구한다.\n",
    "    return error / len(y_true)"
   ]
  },
  {
   "cell_type": "code",
   "execution_count": 5,
   "metadata": {},
   "outputs": [],
   "source": [
    "## MAPE : 백분율오차의 평균에 대한 절대값 버전\n",
    "def mean_abs_percentage_error(y_true, y_pred):\n",
    "    # 오차를 0으로 초기화\n",
    "    error = 0\n",
    "    # 모든 샘플에 대해 오차를 계산\n",
    "    for yt, yp in zip(y_true, y_pred):\n",
    "        # 백분율 오차를 계산하여 전체 오차에 합한다.\n",
    "        error += np.abs(yt - yp) / yt\n",
    "        \n",
    "    #  전체 오차의 평균을 구한다.\n",
    "    return error / len(y_true)"
   ]
  },
  {
   "cell_type": "code",
   "execution_count": 7,
   "metadata": {},
   "outputs": [],
   "source": [
    "# 결정계수\n",
    "import numpy as np\n",
    "\n",
    "def r2(y_true, y_pred):\n",
    "    \n",
    "    # 타겟 값의 평균을 구한다.\n",
    "    mean_true_value = np.mean(y_true)\n",
    "    \n",
    "    # 분자를 0으로 초기화\n",
    "    numerator = 0\n",
    "    # 분모를 0으로 초기화\n",
    "    denominator = 0\n",
    "    \n",
    "    # 모든 샘플에 대해 분자와 분모를 업데이트 한다.\n",
    "    for yt, yp in zip(y_true, y_pred):\n",
    "        # 분자를 업데이트 한다.\n",
    "        numerator += (yt - yp) ** 2\n",
    "        # 분모를 업데이트 한다.\n",
    "        denominator += (yt - mean_true_value) ** 2\n",
    "    # 분자와 분모의 비율을 구한다.\n",
    "    ratio = numerator / denominator\n",
    "    # 1-비율을 반환한다.\n",
    "    return 1 - ratio"
   ]
  },
  {
   "cell_type": "code",
   "execution_count": 8,
   "metadata": {},
   "outputs": [],
   "source": [
    "## 함수 없이 메트릭을 사용하여 MAE 구하기\n",
    "import numpy as np\n",
    "\n",
    "def mae_np(y_true, y_pred):\n",
    "    return np.mean(np.abs(y_true - y_pred))"
   ]
  },
  {
   "cell_type": "code",
   "execution_count": 9,
   "metadata": {},
   "outputs": [],
   "source": [
    "## QWK\n",
    "from sklearn import metrics\n",
    "\n",
    "y_true = [1, 2, 3, 1, 2, 3, 1, 2, 3]\n",
    "\n",
    "y_pred = [2, 1, 2, 1, 2, 3, 3, 1, 2]"
   ]
  },
  {
   "cell_type": "code",
   "execution_count": 10,
   "metadata": {},
   "outputs": [
    {
     "data": {
      "text/plain": [
       "0.3333333333333333"
      ]
     },
     "execution_count": 10,
     "metadata": {},
     "output_type": "execute_result"
    }
   ],
   "source": [
    "metrics.cohen_kappa_score(y_true, y_pred, weights = 'quadratic')\n",
    "metrics.accuracy_score(y_true, y_pred)"
   ]
  },
  {
   "cell_type": "code",
   "execution_count": 12,
   "metadata": {},
   "outputs": [],
   "source": [
    "## MCC\n",
    "## TP, TN, FP, FN\n",
    "def true_positive(y_true, y_pred):\n",
    "    \"\"\"\n",
    "    TP 계산하는 함수\n",
    "    param y_true : 실제 값의 목록\n",
    "    param y_pred : 예측 값의 목록\n",
    "    return : TP의 개수\n",
    "    \"\"\"\n",
    "    # 초기화\n",
    "    tp = 0\n",
    "    for yt, yp in zip(y_true, y_pred):\n",
    "        if yt == 1 and yp == 1:\n",
    "            tp += 1\n",
    "    return tp\n",
    "\n",
    "def true_negative(y_true, y_pred):\n",
    "    \"\"\"\n",
    "    TN을 계산하는 함수\n",
    "    param y_true : 실제 값의 목록\n",
    "    param y_pred : 예측 값의 목록\n",
    "    return : TN의 개수\n",
    "    \"\"\"\n",
    "    # 초기화\n",
    "    tn = 0\n",
    "    for yt, yp in zip(y_true, y_pred):\n",
    "        if yt == 0 and yp == 0:\n",
    "            tn += 1\n",
    "    return tn\n",
    "\n",
    "def false_positive(y_true, y_pred):\n",
    "    \"\"\"\n",
    "    FP을 계산하는 함수\n",
    "    param y_true : 실제 값의 목록\n",
    "    param y_pred : 예측 값의 목록\n",
    "    return : FP의 개수\n",
    "    \"\"\"\n",
    "    # 초기화\n",
    "    fp = 0\n",
    "    for yt, yp in zip(y_true, y_pred):\n",
    "        if yt == 0 and yp == 1:\n",
    "            fp += 1\n",
    "    return fp\n",
    "\n",
    "def false_negative(y_true, y_pred):\n",
    "    \"\"\"\n",
    "    FN을 계산하는 함수\n",
    "    param y_true : 실제 값의 목록\n",
    "    param y_pred : 예측 값의 목록\n",
    "    return : FN의 개수\n",
    "    \"\"\"\n",
    "    # 초기화\n",
    "    fn = 0\n",
    "    for yt, yp in zip(y_true, y_pred):\n",
    "        if yt == 1 and yp == 0:\n",
    "            fn += 1\n",
    "    return fn\n",
    "\n",
    "## MCC\n",
    "def mcc(y_true, y_pred):\n",
    "    \n",
    "    # 이진분류에서  mcc 구하기\n",
    "    tp = true_positive(y_true, y_pred)\n",
    "    tn = true_negative(y_true, y_pred)\n",
    "    fp = false_positive(y_true, y_pred)\n",
    "    fn = false_negative(y_true, y_pred)\n",
    "    \n",
    "    numerator = (tp * tn) - (fp * fn)\n",
    "    \n",
    "    denominator = (\n",
    "    (tp + fp) *\n",
    "    (fn + tp) *\n",
    "    (fp + tn) *\n",
    "    (tp + fn)\n",
    "    )\n",
    "    \n",
    "    denominator = denominator**0.5\n",
    "    \n",
    "    return numerator / denominator"
   ]
  },
  {
   "cell_type": "code",
   "execution_count": null,
   "metadata": {},
   "outputs": [],
   "source": []
  }
 ],
 "metadata": {
  "kernelspec": {
   "display_name": "Python 3",
   "language": "python",
   "name": "python3"
  },
  "language_info": {
   "codemirror_mode": {
    "name": "ipython",
    "version": 3
   },
   "file_extension": ".py",
   "mimetype": "text/x-python",
   "name": "python",
   "nbconvert_exporter": "python",
   "pygments_lexer": "ipython3",
   "version": "3.7.6"
  }
 },
 "nbformat": 4,
 "nbformat_minor": 4
}
