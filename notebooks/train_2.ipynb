{
 "cells": [
  {
   "cell_type": "code",
   "execution_count": 1,
   "metadata": {},
   "outputs": [
    {
     "name": "stdout",
     "output_type": "stream",
     "text": [
      "Fold = 0, Accuracy=0.8684166666666666\n",
      "Fold = 1, Accuracy=0.8754166666666666\n",
      "Fold = 2, Accuracy=0.8681666666666666\n",
      "Fold = 3, Accuracy=0.8689166666666667\n",
      "Fold = 4, Accuracy=0.8655833333333334\n"
     ]
    }
   ],
   "source": [
    "### src/train.py + config.py를 사용\n",
    "\n",
    "## 학습에 사용할 코드\n",
    "import os\n",
    "\n",
    "import config\n",
    "\n",
    "import joblib\n",
    "import pandas as pd\n",
    "from sklearn import metrics\n",
    "from sklearn import tree\n",
    "\n",
    "def run(fold):\n",
    "    # 폴드가 정의되어있는 학습 데이터를 불러온다.\n",
    "    df = pd.read_csv(config.Training_File)\n",
    "    \n",
    "    # 학습 데이터는 kfold 열의 값이 제공된 fold와 다른 샘플들이다.\n",
    "    # 인덱스를 리셋하였음을 유의하라\n",
    "    df_train = df[df.kfold != fold].reset_index(drop = True)\n",
    "    \n",
    "    # 검증 데이터는 kfold 열의 값이 제공된 fold와 같은 샘플들이다.\n",
    "    df_valid = df[df.kfold == fold].reset_index(drop = True)\n",
    "    \n",
    "    # 타겟 열을 제거하고 남은 피쳐를 values를 통해 numpy 행렬로 변환한다.\n",
    "    # 타겟 변수는 데이터 프레임의 label 열이다.\n",
    "    x_train = df_train.drop('label', axis = 1).values\n",
    "    y_train = df_train.label.values\n",
    "    \n",
    "    # 검증 데이터도 동일하게 적용한다.\n",
    "    x_valid = df_valid.drop('label', axis = 1).values\n",
    "    y_valid = df_valid.label.values\n",
    "    \n",
    "    # sklearn의 의사결정트리 모델을 초기화한다.\n",
    "    clf = tree.DecisionTreeClassifier()\n",
    "\n",
    "    # 모델을 학습 데이터로 학습한다.\n",
    "    clf.fit(x_train, y_train)\n",
    "    \n",
    "    # 검증 데이터의 예측 값을 생성한다.\n",
    "    preds = clf.predict(x_valid)\n",
    "    \n",
    "    # 정확도를 계산하여 출력\n",
    "    acc = metrics.accuracy_score(y_valid, preds)\n",
    "    print(f'Fold = {fold}, Accuracy={acc}')\n",
    "    \n",
    "    # 모델을 저장한다.\n",
    "    joblib.dump(clf, os.path.join(config.Model_Output, f'../models/dt_{fold}.bin'))\n",
    "    \n",
    "\n",
    "if __name__ == '__main__':\n",
    "    run(fold = 0)\n",
    "    run(fold = 1)\n",
    "    run(fold = 2)\n",
    "    run(fold = 3)\n",
    "    run(fold = 4)"
   ]
  },
  {
   "cell_type": "code",
   "execution_count": null,
   "metadata": {},
   "outputs": [],
   "source": []
  }
 ],
 "metadata": {
  "kernelspec": {
   "display_name": "Python 3",
   "language": "python",
   "name": "python3"
  },
  "language_info": {
   "codemirror_mode": {
    "name": "ipython",
    "version": 3
   },
   "file_extension": ".py",
   "mimetype": "text/x-python",
   "name": "python",
   "nbconvert_exporter": "python",
   "pygments_lexer": "ipython3",
   "version": "3.7.6"
  }
 },
 "nbformat": 4,
 "nbformat_minor": 4
}
